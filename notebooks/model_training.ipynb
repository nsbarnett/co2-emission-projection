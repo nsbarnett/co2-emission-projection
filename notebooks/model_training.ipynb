{
 "cells": [
  {
   "cell_type": "code",
   "execution_count": 6,
   "id": "d65bbee4",
   "metadata": {},
   "outputs": [
    {
     "name": "stdout",
     "output_type": "stream",
     "text": [
      "X_train size: 45\n",
      "X_test sizw: 15\n",
      "y_train size: 45\n",
      "y_test size: 15\n"
     ]
    }
   ],
   "source": [
    "# Add project root to sys.path inside the notebook\n",
    "import sys\n",
    "import os\n",
    "sys.path.append(os.path.abspath(\"..\"))\n",
    "\n",
    "# Add project root to sys.path inside the notebook\n",
    "from sklearn.model_selection import train_test_split\n",
    "from src.data_preprocessing import get_US_data\n",
    "\n",
    "# Load US data\n",
    "US_df = get_US_data()\n",
    "\n",
    "# Example dataset\n",
    "X = US_df['year']  # Features\n",
    "y = US_df['value']  # Labels\n",
    "\n",
    "# Split the dataset\n",
    "X_train, X_test, y_train, y_test = train_test_split(X, y, test_size=0.25, random_state=42)\n",
    "\n",
    "print(\"X_train size:\", X_train.size)\n",
    "print(\"X_test sizw:\", X_test.size)\n",
    "print(\"y_train size:\", y_train.size)\n",
    "print(\"y_test size:\", y_test.size)"
   ]
  }
 ],
 "metadata": {
  "kernelspec": {
   "display_name": ".venv (3.12.7)",
   "language": "python",
   "name": "python3"
  },
  "language_info": {
   "codemirror_mode": {
    "name": "ipython",
    "version": 3
   },
   "file_extension": ".py",
   "mimetype": "text/x-python",
   "name": "python",
   "nbconvert_exporter": "python",
   "pygments_lexer": "ipython3",
   "version": "3.12.7"
  }
 },
 "nbformat": 4,
 "nbformat_minor": 5
}
